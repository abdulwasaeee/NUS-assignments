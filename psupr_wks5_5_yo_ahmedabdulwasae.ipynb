{
  "nbformat": 4,
  "nbformat_minor": 0,
  "metadata": {
    "colab": {
      "provenance": [],
      "toc_visible": true,
      "include_colab_link": true
    },
    "kernelspec": {
      "name": "python3",
      "display_name": "Python 3"
    },
    "accelerator": "GPU"
  },
  "cells": [
    {
      "cell_type": "markdown",
      "metadata": {
        "id": "view-in-github",
        "colab_type": "text"
      },
      "source": [
        "<a href=\"https://colab.research.google.com/github/abdulwasaeee/NUS-assignments/blob/main/psupr_wks5_5_yo_ahmedabdulwasae.ipynb\" target=\"_parent\"><img src=\"https://colab.research.google.com/assets/colab-badge.svg\" alt=\"Open In Colab\"/></a>"
      ]
    },
    {
      "cell_type": "markdown",
      "metadata": {
        "id": "CRNVzhoo1clG"
      },
      "source": [
        "## **1. Mount google drive**\n",
        "---"
      ]
    },
    {
      "cell_type": "code",
      "metadata": {
        "id": "5W39GXyk1hME",
        "outputId": "cbb1a254-9791-4922-9465-0c294a513f1d",
        "colab": {
          "base_uri": "https://localhost:8080/"
        }
      },
      "source": [
        "from google.colab import drive\n",
        "drive.mount('/content/gdrive')"
      ],
      "execution_count": 3,
      "outputs": [
        {
          "output_type": "stream",
          "name": "stdout",
          "text": [
            "Mounted at /content/gdrive\n"
          ]
        }
      ]
    },
    {
      "cell_type": "markdown",
      "metadata": {
        "id": "dOQ-2xS_MYHi"
      },
      "source": [
        "## **2. Import the necessary libraries**\n",
        "---"
      ]
    },
    {
      "cell_type": "code",
      "metadata": {
        "id": "yoi4gWDELtek",
        "colab": {
          "base_uri": "https://localhost:8080/"
        },
        "outputId": "77fe65bd-65c1-4489-edd4-1e90d06bf54f"
      },
      "source": [
        "import matplotlib\n",
        "import sklearn\n",
        "import numpy as np\n",
        "import pandas as pd\n",
        "import sklearn.metrics as metrics\n",
        "import matplotlib.pyplot as plt\n",
        "import tensorflow as tf\n",
        "import os\n",
        "\n",
        "\n",
        "from tensorflow.keras.callbacks import ModelCheckpoint,CSVLogger\n",
        "from tensorflow.keras.models import Sequential\n",
        "from tensorflow.keras.layers import Dense\n",
        "from tensorflow.keras.layers import Dropout\n",
        "from tensorflow.keras.layers import Flatten\n",
        "from tensorflow.keras.layers import Conv2D\n",
        "from tensorflow.keras.layers import MaxPooling2D\n",
        "from tensorflow.keras.utils import to_categorical\n",
        "from tensorflow.keras.utils import plot_model\n",
        "\n",
        "\n",
        "print(\"Versions of key libraries\")\n",
        "print(\"---\")\n",
        "print(\"tensorflow: \", tf.__version__)\n",
        "print(\"numpy:      \", np.__version__)\n",
        "print(\"matplotlib: \", matplotlib.__version__)\n",
        "print(\"sklearn:    \", sklearn.__version__)"
      ],
      "execution_count": 4,
      "outputs": [
        {
          "output_type": "stream",
          "name": "stdout",
          "text": [
            "Versions of key libraries\n",
            "---\n",
            "tensorflow:  2.19.0\n",
            "numpy:       2.0.2\n",
            "matplotlib:  3.10.0\n",
            "sklearn:     1.6.1\n"
          ]
        }
      ]
    },
    {
      "cell_type": "markdown",
      "metadata": {
        "id": "0amhwjZ4M2m-"
      },
      "source": [
        "## **3.Create a function to plot the japanese character correctly**\n",
        "---"
      ]
    },
    {
      "cell_type": "code",
      "metadata": {
        "id": "OFxsBB1mNXl2",
        "colab": {
          "base_uri": "https://localhost:8080/"
        },
        "outputId": "b6e022f6-68ac-469d-b98d-eec5b51556f0"
      },
      "source": [
        "def grayplt(img,title=''):\n",
        "    plt.axis('off')\n",
        "    if np.size(img.shape) == 3:\n",
        "        plt.imshow(img[:,:,0],cmap='gray',vmin=0,vmax=1)\n",
        "    else:\n",
        "        plt.imshow(img,cmap='gray',vmin=0,vmax=1)\n",
        "    plt.title(title, fontproperties=prop)\n",
        "    plt.show()\n",
        "\n",
        "print(grayplt)"
      ],
      "execution_count": 5,
      "outputs": [
        {
          "output_type": "stream",
          "name": "stdout",
          "text": [
            "<function grayplt at 0x7cec6ef76980>\n"
          ]
        }
      ]
    },
    {
      "cell_type": "markdown",
      "metadata": {
        "id": "X3N41iixORPz"
      },
      "source": [
        "## **4. Setup matplotlib**\n",
        "---"
      ]
    },
    {
      "cell_type": "code",
      "metadata": {
        "id": "OyO5OsUrOYNQ",
        "colab": {
          "base_uri": "https://localhost:8080/"
        },
        "outputId": "4d31f921-2a5f-41a8-8623-8d62abbfc2e5"
      },
      "source": [
        "                                          # Setting up the font manager, so that\n",
        "                                          # it can show japanese characters correctly\n",
        "from matplotlib import font_manager as fm\n",
        "fpath       = os.path.join(os.getcwd(), \"ipam.ttf\")\n",
        "prop        = fm.FontProperties(fname=fpath)\n",
        "\n",
        "plt.style.use('ggplot')\n",
        "plt.rcParams['ytick.right']     = True\n",
        "plt.rcParams['ytick.labelright']= True\n",
        "plt.rcParams['ytick.left']      = False\n",
        "plt.rcParams['ytick.labelleft'] = False\n",
        "plt.rcParams['figure.figsize']  = [7,7]   # Set the figure size to be 7 inch for (width,height)\n",
        "\n",
        "print(\"Matplotlib setup completes.\")"
      ],
      "execution_count": 6,
      "outputs": [
        {
          "output_type": "stream",
          "name": "stdout",
          "text": [
            "Matplotlib setup completes.\n"
          ]
        }
      ]
    },
    {
      "cell_type": "markdown",
      "metadata": {
        "id": "5w2jAiKZOmgP"
      },
      "source": [
        "## **5. Prepare data for training and testing**\n",
        "---\n",
        "* Step 1: Load the dataset\n",
        "* Step 2: Check the shape and type of the data, plot a sample for observation\n",
        "* Step 3: Convert the data into float32 and rescale the values from the range of 0\\~255 into 0\\~1\n",
        "* Step 4: Retrieve the row size and the column size of each image\n",
        "* Step 5: Reshape training and testing data to be in the form of `[samples,rows,columns,channel]`. This is required by Keras framework\n",
        "* Step 6: Perform one-hot enconding on the labels\n",
        "* Step 7: Retrieve the number of classes in this problem"
      ]
    },
    {
      "cell_type": "code",
      "metadata": {
        "id": "v3Ad2V0pO1TX",
        "colab": {
          "base_uri": "https://localhost:8080/",
          "height": 680
        },
        "outputId": "180e2223-4985-447d-aef4-cba72842c7a5"
      },
      "source": [
        "                                                                                # Step 1\n",
        "trDat       = np.load('/content/gdrive/My Drive/iss/psupr/data/kmnist-train-imgs.npz')['arr_0']\n",
        "trLbl       = np.load('/content/gdrive/My Drive/iss/psupr/data/kmnist-train-labels.npz')['arr_0']\n",
        "tsDat       = np.load('/content/gdrive/My Drive/iss/psupr/data/kmnist-test-imgs.npz')['arr_0']\n",
        "tsLbl       = np.load('/content/gdrive/My Drive/iss/psupr/data/kmnist-test-labels.npz')['arr_0']\n",
        "\n",
        "                                                                                # Step 2\n",
        "print(\"The shape of trDat is\", trDat.shape, \"and the type of trDat is\", trDat.dtype)\n",
        "print(\"The shape of tsDat is\", tsDat.shape, \"and the type of tsDat is\", tsDat.dtype)\n",
        "print(\"\")\n",
        "print(\"The shape of trLbl is\", trLbl.shape, \"and the type of trLbl is\", trLbl.dtype)\n",
        "print(\"The shape of tsLbl is\", tsLbl.shape, \"and the type of tsLbl is\", tsLbl.dtype)\n",
        "print(\"\")\n",
        "grayplt(trDat[132])\n",
        "\n",
        "                                                                                # Step 3\n",
        "trDat           = trDat.astype('float32')/255\n",
        "tsDat           = tsDat.astype('float32')/255\n",
        "\n",
        "                                                                                # Step 4\n",
        "imgrows         = trDat.shape[1]\n",
        "imgclms         = trDat.shape[2]\n",
        "\n",
        "                                                                                # Step 5\n",
        "trDat       = trDat.reshape(trDat.shape[0],\n",
        "                            imgrows,\n",
        "                            imgclms,\n",
        "                            1)\n",
        "tsDat       = tsDat.reshape(tsDat.shape[0],\n",
        "                            imgrows,\n",
        "                            imgclms,\n",
        "                            1)\n",
        "\n",
        "                                                                                # Step 6\n",
        "trLbl           = to_categorical(trLbl)\n",
        "tsLbl           = to_categorical(tsLbl)\n",
        "\n",
        "num_classes     = tsLbl.shape[1]                                                # Step 7"
      ],
      "execution_count": 7,
      "outputs": [
        {
          "output_type": "stream",
          "name": "stdout",
          "text": [
            "The shape of trDat is (60000, 28, 28) and the type of trDat is uint8\n",
            "The shape of tsDat is (10000, 28, 28) and the type of tsDat is uint8\n",
            "\n",
            "The shape of trLbl is (60000,) and the type of trLbl is uint8\n",
            "The shape of tsLbl is (10000,) and the type of tsLbl is uint8\n",
            "\n"
          ]
        },
        {
          "output_type": "display_data",
          "data": {
            "text/plain": [
              "<Figure size 700x700 with 1 Axes>"
            ],
            "image/png": "[encoded data removed]"
          },
          "metadata": {}
        }
      ]
    },
    {
      "cell_type": "markdown",
      "metadata": {
        "id": "DoP3WcoJW-jZ"
      },
      "source": [
        "## **6. Define deep learning model (to be completed)**\n",
        "___\n",
        "* Step 1: Set a name for the coming model (required for saving)\n",
        "* Step 2: Define the convolutional neural network model (to be completed)\n",
        "* Step 3: Create models for training and testing\n",
        "* Step 4: Display the summary of the model of interest\n",
        "\n",
        "**You may trial and error various structures (for input or number of channels or kernels sizes or pooling sizes) and see what happens to the performance**"
      ]
    },
    {
      "cell_type": "code",
      "metadata": {
        "id": "0HMOes0kXCPd",
        "colab": {
          "base_uri": "https://localhost:8080/",
          "height": 408
        },
        "outputId": "2844bd76-ffcb-4a83-ff13-76ec2be4fea7"
      },
      "source": [
        "modelname   = 'wks5_5'                                                          # Step 1\n",
        "\n",
        "                                                                                # Step 2\n",
        "def createModel():\n",
        "    model = Sequential()\n",
        "    model.add(Conv2D(32, kernel_size=(3, 3), activation='relu', input_shape=(imgrows, imgclms, 1)))\n",
        "    model.add(MaxPooling2D(pool_size=(2, 2)))\n",
        "    model.add(Conv2D(64, (3, 3), activation='relu'))\n",
        "    model.add(MaxPooling2D(pool_size=(2, 2)))\n",
        "    model.add(Flatten())\n",
        "    model.add(Dense(128, activation='relu'))\n",
        "    model.add(Dense(num_classes, activation='softmax'))\n",
        "\n",
        "    return model\n",
        "\n",
        "                                                                                # Step 3\n",
        "model       = createModel() # This is meant for training\n",
        "modelGo     = createModel() # This is used for final testing\n",
        "\n",
        "model.summary()                                                                 # Step 4"
      ],
      "execution_count": 8,
      "outputs": [
        {
          "output_type": "stream",
          "name": "stderr",
          "text": [
            "/usr/local/lib/python3.12/dist-packages/keras/src/layers/convolutional/base_conv.py:113: UserWarning: Do not pass an `input_shape`/`input_dim` argument to a layer. When using Sequential models, prefer using an `Input(shape)` object as the first layer in the model instead.\n",
            "  super().__init__(activity_regularizer=activity_regularizer, **kwargs)\n"
          ]
        },
        {
          "output_type": "display_data",
          "data": {
            "text/plain": [
              "\u001b[1mModel: \"sequential\"\u001b[0m\n"
            ],
            "text/html": [
              "<pre style=\"white-space:pre;overflow-x:auto;line-height:normal;font-family:Menlo,'DejaVu Sans Mono',consolas,'Courier New',monospace\"><span style=\"font-weight: bold\">Model: \"sequential\"</span>\n",
              "</pre>\n"
            ]
          },
          "metadata": {}
        },
        {
          "output_type": "display_data",
          "data": {
            "text/plain": [
              "┏━━━━━━━━━━━━━━━━━━━━━━━━━━━━━━━━━┳━━━━━━━━━━━━━━━━━━━━━━━━┳━━━━━━━━━━━━━━━┓\n",
              "┃\u001b[1m \u001b[0m\u001b[1mLayer (type)                   \u001b[0m\u001b[1m \u001b[0m┃\u001b[1m \u001b[0m\u001b[1mOutput Shape          \u001b[0m\u001b[1m \u001b[0m┃\u001b[1m \u001b[0m\u001b[1m      Param #\u001b[0m\u001b[1m \u001b[0m┃\n",
              "┡━━━━━━━━━━━━━━━━━━━━━━━━━━━━━━━━━╇━━━━━━━━━━━━━━━━━━━━━━━━╇━━━━━━━━━━━━━━━┩\n",
              "│ conv2d (\u001b[38;5;33mConv2D\u001b[0m)                 │ (\u001b[38;5;45mNone\u001b[0m, \u001b[38;5;34m26\u001b[0m, \u001b[38;5;34m26\u001b[0m, \u001b[38;5;34m32\u001b[0m)     │           \u001b[38;5;34m320\u001b[0m │\n",
              "├─────────────────────────────────┼────────────────────────┼───────────────┤\n",
              "│ max_pooling2d (\u001b[38;5;33mMaxPooling2D\u001b[0m)    │ (\u001b[38;5;45mNone\u001b[0m, \u001b[38;5;34m13\u001b[0m, \u001b[38;5;34m13\u001b[0m, \u001b[38;5;34m32\u001b[0m)     │             \u001b[38;5;34m0\u001b[0m │\n",
              "├─────────────────────────────────┼────────────────────────┼───────────────┤\n",
              "│ conv2d_1 (\u001b[38;5;33mConv2D\u001b[0m)               │ (\u001b[38;5;45mNone\u001b[0m, \u001b[38;5;34m11\u001b[0m, \u001b[38;5;34m11\u001b[0m, \u001b[38;5;34m64\u001b[0m)     │        \u001b[38;5;34m18,496\u001b[0m │\n",
              "├─────────────────────────────────┼────────────────────────┼───────────────┤\n",
              "│ max_pooling2d_1 (\u001b[38;5;33mMaxPooling2D\u001b[0m)  │ (\u001b[38;5;45mNone\u001b[0m, \u001b[38;5;34m5\u001b[0m, \u001b[38;5;34m5\u001b[0m, \u001b[38;5;34m64\u001b[0m)       │             \u001b[38;5;34m0\u001b[0m │\n",
              "├─────────────────────────────────┼────────────────────────┼───────────────┤\n",
              "│ flatten (\u001b[38;5;33mFlatten\u001b[0m)               │ (\u001b[38;5;45mNone\u001b[0m, \u001b[38;5;34m1600\u001b[0m)           │             \u001b[38;5;34m0\u001b[0m │\n",
              "├─────────────────────────────────┼────────────────────────┼───────────────┤\n",
              "│ dense (\u001b[38;5;33mDense\u001b[0m)                   │ (\u001b[38;5;45mNone\u001b[0m, \u001b[38;5;34m128\u001b[0m)            │       \u001b[38;5;34m204,928\u001b[0m │\n",
              "├─────────────────────────────────┼────────────────────────┼───────────────┤\n",
              "│ dense_1 (\u001b[38;5;33mDense\u001b[0m)                 │ (\u001b[38;5;45mNone\u001b[0m, \u001b[38;5;34m10\u001b[0m)             │         \u001b[38;5;34m1,290\u001b[0m │\n",
              "└─────────────────────────────────┴────────────────────────┴───────────────┘\n"
            ],
            "text/html": [
              "<pre style=\"white-space:pre;overflow-x:auto;line-height:normal;font-family:Menlo,'DejaVu Sans Mono',consolas,'Courier New',monospace\">┏━━━━━━━━━━━━━━━━━━━━━━━━━━━━━━━━━┳━━━━━━━━━━━━━━━━━━━━━━━━┳━━━━━━━━━━━━━━━┓\n",
              "┃<span style=\"font-weight: bold\"> Layer (type)                    </span>┃<span style=\"font-weight: bold\"> Output Shape           </span>┃<span style=\"font-weight: bold\">       Param # </span>┃\n",
              "┡━━━━━━━━━━━━━━━━━━━━━━━━━━━━━━━━━╇━━━━━━━━━━━━━━━━━━━━━━━━╇━━━━━━━━━━━━━━━┩\n",
              "│ conv2d (<span style=\"color: #0087ff; text-decoration-color: #0087ff\">Conv2D</span>)                 │ (<span style=\"color: #00d7ff; text-decoration-color: #00d7ff\">None</span>, <span style=\"color: #00af00; text-decoration-color: #00af00\">26</span>, <span style=\"color: #00af00; text-decoration-color: #00af00\">26</span>, <span style=\"color: #00af00; text-decoration-color: #00af00\">32</span>)     │           <span style=\"color: #00af00; text-decoration-color: #00af00\">320</span> │\n",
              "├─────────────────────────────────┼────────────────────────┼───────────────┤\n",
              "│ max_pooling2d (<span style=\"color: #0087ff; text-decoration-color: #0087ff\">MaxPooling2D</span>)    │ (<span style=\"color: #00d7ff; text-decoration-color: #00d7ff\">None</span>, <span style=\"color: #00af00; text-decoration-color: #00af00\">13</span>, <span style=\"color: #00af00; text-decoration-color: #00af00\">13</span>, <span style=\"color: #00af00; text-decoration-color: #00af00\">32</span>)     │             <span style=\"color: #00af00; text-decoration-color: #00af00\">0</span> │\n",
              "├─────────────────────────────────┼────────────────────────┼───────────────┤\n",
              "│ conv2d_1 (<span style=\"color: #0087ff; text-decoration-color: #0087ff\">Conv2D</span>)               │ (<span style=\"color: #00d7ff; text-decoration-color: #00d7ff\">None</span>, <span style=\"color: #00af00; text-decoration-color: #00af00\">11</span>, <span style=\"color: #00af00; text-decoration-color: #00af00\">11</span>, <span style=\"color: #00af00; text-decoration-color: #00af00\">64</span>)     │        <span style=\"color: #00af00; text-decoration-color: #00af00\">18,496</span> │\n",
              "├─────────────────────────────────┼────────────────────────┼───────────────┤\n",
              "│ max_pooling2d_1 (<span style=\"color: #0087ff; text-decoration-color: #0087ff\">MaxPooling2D</span>)  │ (<span style=\"color: #00d7ff; text-decoration-color: #00d7ff\">None</span>, <span style=\"color: #00af00; text-decoration-color: #00af00\">5</span>, <span style=\"color: #00af00; text-decoration-color: #00af00\">5</span>, <span style=\"color: #00af00; text-decoration-color: #00af00\">64</span>)       │             <span style=\"color: #00af00; text-decoration-color: #00af00\">0</span> │\n",
              "├─────────────────────────────────┼────────────────────────┼───────────────┤\n",
              "│ flatten (<span style=\"color: #0087ff; text-decoration-color: #0087ff\">Flatten</span>)               │ (<span style=\"color: #00d7ff; text-decoration-color: #00d7ff\">None</span>, <span style=\"color: #00af00; text-decoration-color: #00af00\">1600</span>)           │             <span style=\"color: #00af00; text-decoration-color: #00af00\">0</span> │\n",
              "├─────────────────────────────────┼────────────────────────┼───────────────┤\n",
              "│ dense (<span style=\"color: #0087ff; text-decoration-color: #0087ff\">Dense</span>)                   │ (<span style=\"color: #00d7ff; text-decoration-color: #00d7ff\">None</span>, <span style=\"color: #00af00; text-decoration-color: #00af00\">128</span>)            │       <span style=\"color: #00af00; text-decoration-color: #00af00\">204,928</span> │\n",
              "├─────────────────────────────────┼────────────────────────┼───────────────┤\n",
              "│ dense_1 (<span style=\"color: #0087ff; text-decoration-color: #0087ff\">Dense</span>)                 │ (<span style=\"color: #00d7ff; text-decoration-color: #00d7ff\">None</span>, <span style=\"color: #00af00; text-decoration-color: #00af00\">10</span>)             │         <span style=\"color: #00af00; text-decoration-color: #00af00\">1,290</span> │\n",
              "└─────────────────────────────────┴────────────────────────┴───────────────┘\n",
              "</pre>\n"
            ]
          },
          "metadata": {}
        },
        {
          "output_type": "display_data",
          "data": {
            "text/plain": [
              "\u001b[1m Total params: \u001b[0m\u001b[38;5;34m225,034\u001b[0m (879.04 KB)\n"
            ],
            "text/html": [
              "<pre style=\"white-space:pre;overflow-x:auto;line-height:normal;font-family:Menlo,'DejaVu Sans Mono',consolas,'Courier New',monospace\"><span style=\"font-weight: bold\"> Total params: </span><span style=\"color: #00af00; text-decoration-color: #00af00\">225,034</span> (879.04 KB)\n",
              "</pre>\n"
            ]
          },
          "metadata": {}
        },
        {
          "output_type": "display_data",
          "data": {
            "text/plain": [
              "\u001b[1m Trainable params: \u001b[0m\u001b[38;5;34m225,034\u001b[0m (879.04 KB)\n"
            ],
            "text/html": [
              "<pre style=\"white-space:pre;overflow-x:auto;line-height:normal;font-family:Menlo,'DejaVu Sans Mono',consolas,'Courier New',monospace\"><span style=\"font-weight: bold\"> Trainable params: </span><span style=\"color: #00af00; text-decoration-color: #00af00\">225,034</span> (879.04 KB)\n",
              "</pre>\n"
            ]
          },
          "metadata": {}
        },
        {
          "output_type": "display_data",
          "data": {
            "text/plain": [
              "\u001b[1m Non-trainable params: \u001b[0m\u001b[38;5;34m0\u001b[0m (0.00 B)\n"
            ],
            "text/html": [
              "<pre style=\"white-space:pre;overflow-x:auto;line-height:normal;font-family:Menlo,'DejaVu Sans Mono',consolas,'Courier New',monospace\"><span style=\"font-weight: bold\"> Non-trainable params: </span><span style=\"color: #00af00; text-decoration-color: #00af00\">0</span> (0.00 B)\n",
              "</pre>\n"
            ]
          },
          "metadata": {}
        }
      ]
    },
    {
      "cell_type": "markdown",
      "metadata": {
        "id": "DlquJEaFZxV9"
      },
      "source": [
        "## **7. Create the callbacks to be applied during training**\n",
        "---\n",
        "* Step 1: Create a callback to save the model from an epoch when validation accuracy is the highest\n",
        "* Step 2: Create a callback to save the training loss, training accuracy, validation loss and validation accuracy of each epoch into a csv file\n",
        "* Step 3: Put the two callbacks objects into a list"
      ]
    },
    {
      "cell_type": "code",
      "metadata": {
        "id": "9-a1LSCbahKy",
        "colab": {
          "base_uri": "https://localhost:8080/"
        },
        "outputId": "00270799-905a-4f07-9f5a-d0f2f715108b"
      },
      "source": [
        "                                                                                # Step 1\n",
        "folderpath      = '/content/gdrive/My Drive/iss/psupr/colab/'\n",
        "filepath        = folderpath + modelname + \".keras\"\n",
        "checkpoint      = ModelCheckpoint(filepath,\n",
        "                                  monitor='val_accuracy',\n",
        "                                  verbose=0,\n",
        "                                  save_best_only=True,\n",
        "                                  mode='max')\n",
        "\n",
        "csv_logger      = CSVLogger(folderpath+modelname +'.csv')                       # Step 2\n",
        "callbacks_list  = [checkpoint,csv_logger]                                       # Step 3\n",
        "\n",
        "print(\"Callbacks created:\")\n",
        "print(callbacks_list[0])\n",
        "print(callbacks_list[1])\n",
        "print('')\n",
        "print(\"Path to model:\", filepath)\n",
        "print(\"Path to log:  \", folderpath+modelname+'.csv')"
      ],
      "execution_count": 9,
      "outputs": [
        {
          "output_type": "stream",
          "name": "stdout",
          "text": [
            "Callbacks created:\n",
            "<keras.src.callbacks.model_checkpoint.ModelCheckpoint object at 0x7cec6f341f70>\n",
            "<keras.src.callbacks.csv_logger.CSVLogger object at 0x7cec697e36e0>\n",
            "\n",
            "Path to model: /content/gdrive/My Drive/iss/psupr/colab/wks5_5.keras\n",
            "Path to log:   /content/gdrive/My Drive/iss/psupr/colab/wks5_5.csv\n"
          ]
        }
      ]
    },
    {
      "cell_type": "markdown",
      "metadata": {
        "id": "1mKgjQsmfOBz"
      },
      "source": [
        "## **8. Train the deep learning model**\n",
        "___"
      ]
    },
    {
      "cell_type": "code",
      "metadata": {
        "id": "23lUNwpGfV0A",
        "colab": {
          "base_uri": "https://localhost:8080/"
        },
        "outputId": "b4d4ee1c-47e3-4ed5-81be-03a03c82ccc0"
      },
      "source": [
        "model.compile(loss='categorical_crossentropy',\n",
        "              optimizer='adam',\n",
        "              metrics=['accuracy'])\n",
        "\n",
        "model.fit(trDat,                            # Training data\n",
        "          trLbl,                            # Training label\n",
        "          validation_data=(tsDat, tsLbl),   # Validation data and label\n",
        "          epochs=3,                       # The amount of epochs to be trained\n",
        "          batch_size=128,\n",
        "          shuffle=True,                     # To shuffle the training data\n",
        "          callbacks=callbacks_list)         # Callbacks to execute the checkpoints"
      ],
      "execution_count": 10,
      "outputs": [
        {
          "output_type": "stream",
          "name": "stdout",
          "text": [
            "Epoch 1/3\n",
            "\u001b[1m469/469\u001b[0m \u001b[32m━━━━━━━━━━━━━━━━━━━━\u001b[0m\u001b[37m\u001b[0m \u001b[1m11s\u001b[0m 16ms/step - accuracy: 0.7834 - loss: 0.7223 - val_accuracy: 0.8761 - val_loss: 0.4037\n",
            "Epoch 2/3\n",
            "\u001b[1m469/469\u001b[0m \u001b[32m━━━━━━━━━━━━━━━━━━━━\u001b[0m\u001b[37m\u001b[0m \u001b[1m2s\u001b[0m 5ms/step - accuracy: 0.9582 - loss: 0.1385 - val_accuracy: 0.9117 - val_loss: 0.2975\n",
            "Epoch 3/3\n",
            "\u001b[1m469/469\u001b[0m \u001b[32m━━━━━━━━━━━━━━━━━━━━\u001b[0m\u001b[37m\u001b[0m \u001b[1m3s\u001b[0m 5ms/step - accuracy: 0.9759 - loss: 0.0789 - val_accuracy: 0.9335 - val_loss: 0.2317\n"
          ]
        },
        {
          "output_type": "execute_result",
          "data": {
            "text/plain": [
              "<keras.src.callbacks.history.History at 0x7cec6981b080>"
            ]
          },
          "metadata": {},
          "execution_count": 10
        }
      ]
    },
    {
      "cell_type": "markdown",
      "metadata": {
        "id": "TevfJTd-s0nk"
      },
      "source": [
        "## **9. Validate the deep learning model**\n",
        "---\n",
        "* Step 1: Load the trained weights and compile the model\n",
        "* Step 2: Make prediction\n"
      ]
    },
    {
      "cell_type": "code",
      "metadata": {
        "id": "2sVtWmcVtiV5",
        "colab": {
          "base_uri": "https://localhost:8080/"
        },
        "outputId": "50603c1a-c3f5-470e-d675-9adff218d7c0"
      },
      "source": [
        "                                                                                # Step 1\n",
        "modelGo.load_weights(filepath)\n",
        "modelGo.compile(loss='categorical_crossentropy',\n",
        "                optimizer='adam',\n",
        "                metrics=['accuracy'])\n",
        "\n",
        "predicts    = modelGo.predict(tsDat)                                            # Step 2\n",
        "print(\"Prediction completes.\")"
      ],
      "execution_count": 11,
      "outputs": [
        {
          "output_type": "stream",
          "name": "stdout",
          "text": [
            "\u001b[1m313/313\u001b[0m \u001b[32m━━━━━━━━━━━━━━━━━━━━\u001b[0m\u001b[37m\u001b[0m \u001b[1m1s\u001b[0m 2ms/step\n",
            "Prediction completes.\n"
          ]
        }
      ]
    },
    {
      "cell_type": "markdown",
      "metadata": {
        "id": "0aOCUljp5qq4"
      },
      "source": [
        "## **10. Report classification metrics**\n",
        "---\n",
        "* Step 1: Setup the label\n",
        "* Step 2: Convert label from one-hot to integer\n",
        "* Step 3: Calculate the accuracy score\n",
        "* Step 4: Generate classification report"
      ]
    },
    {
      "cell_type": "code",
      "metadata": {
        "id": "2tI4hBmk5uRh",
        "colab": {
          "base_uri": "https://localhost:8080/"
        },
        "outputId": "2f56a3dd-8113-4644-c1a7-179b4dc00312"
      },
      "source": [
        "                                                                                # Step 1\n",
        "labelname   = ['お O','き Ki','す Su','つ Tsu','な Na','は Ha','ま Ma','や Ya','れ Re','を Wo']\n",
        "                                                                                # Step 2\n",
        "predout     = np.argmax(predicts,axis=1)\n",
        "testout     = np.argmax(tsLbl,axis=1)\n",
        "\n",
        "testScores  = metrics.accuracy_score(testout,predout)                           # Step 3\n",
        "\n",
        "                                                                                # Step 4\n",
        "print(\"Best accuracy (on testing dataset): %.2f%%\" % (testScores*100))\n",
        "print(metrics.classification_report(testout,\n",
        "                                    predout,\n",
        "                                    target_names=labelname,\n",
        "                                    digits=4))"
      ],
      "execution_count": 12,
      "outputs": [
        {
          "output_type": "stream",
          "name": "stdout",
          "text": [
            "Best accuracy (on testing dataset): 93.35%\n",
            "              precision    recall  f1-score   support\n",
            "\n",
            "         お O     0.9453    0.9500    0.9476      1000\n",
            "        き Ki     0.9428    0.9230    0.9328      1000\n",
            "        す Su     0.9107    0.8970    0.9038      1000\n",
            "       つ Tsu     0.9142    0.9700    0.9413      1000\n",
            "        な Na     0.8721    0.9270    0.8987      1000\n",
            "        は Ha     0.9804    0.9020    0.9396      1000\n",
            "        ま Ma     0.9065    0.9700    0.9372      1000\n",
            "        や Ya     0.9644    0.9200    0.9417      1000\n",
            "        れ Re     0.9578    0.9540    0.9559      1000\n",
            "        を Wo     0.9535    0.9220    0.9375      1000\n",
            "\n",
            "    accuracy                         0.9335     10000\n",
            "   macro avg     0.9348    0.9335    0.9336     10000\n",
            "weighted avg     0.9348    0.9335    0.9336     10000\n",
            "\n"
          ]
        }
      ]
    },
    {
      "cell_type": "markdown",
      "metadata": {
        "id": "gEK_4UXN6IVa"
      },
      "source": [
        "## **11. Print confusion matrix**\n",
        "---"
      ]
    },
    {
      "cell_type": "code",
      "metadata": {
        "id": "UCBJCYp26L1t",
        "colab": {
          "base_uri": "https://localhost:8080/"
        },
        "outputId": "48367840-c591-45b2-b937-5f2456a0f407"
      },
      "source": [
        "confusion   = metrics.confusion_matrix(testout,predout)\n",
        "print(confusion)"
      ],
      "execution_count": 13,
      "outputs": [
        {
          "output_type": "stream",
          "name": "stdout",
          "text": [
            "[[950   2   0   1  29   1   0   8   5   4]\n",
            " [  2 923   8   0  12   0  43   2   3   7]\n",
            " [  8   3 897  37  14   7  13   9   7   5]\n",
            " [  1   0  15 970   5   2   2   2   2   1]\n",
            " [ 18   6   3  16 927   2   7   3  12   6]\n",
            " [  2  10  27  15  15 902  15   4   4   6]\n",
            " [  3   1   9   7   6   3 970   0   1   0]\n",
            " [ 12   5   5   3  25   1   9 920   6  14]\n",
            " [  2  12   9   7   7   1   6   0 954   2]\n",
            " [  7  17  12   5  23   1   5   6   2 922]]\n"
          ]
        }
      ]
    },
    {
      "cell_type": "markdown",
      "metadata": {
        "id": "2QMIDPD46UGT"
      },
      "source": [
        "## **12. Plot curves on validation loss and accuracy**\n",
        "---"
      ]
    },
    {
      "cell_type": "code",
      "metadata": {
        "id": "qr2ZbvUi6YHf",
        "colab": {
          "base_uri": "https://localhost:8080/",
          "height": 622
        },
        "outputId": "5ff5bbb2-a571-4157-93ee-812b4e1385fd"
      },
      "source": [
        "records     = pd.read_csv(folderpath+modelname +'.csv')\n",
        "plt.figure()\n",
        "plt.subplot(211)\n",
        "plt.plot(records['val_loss'], label=\"validation\")\n",
        "plt.plot(records['loss'],label=\"training\")\n",
        "plt.yticks([0.10,0.30,0.50,0.70])\n",
        "plt.title('Loss value',fontsize=12)\n",
        "\n",
        "ax          = plt.gca()\n",
        "ax.set_xticklabels([])\n",
        "\n",
        "plt.subplot(212)\n",
        "plt.plot(records['val_accuracy'],label=\"validation\")\n",
        "plt.plot(records['accuracy'],label=\"training\")\n",
        "plt.yticks([0.7,0.8,0.9,1.0])\n",
        "plt.title('Accuracy',fontsize=12)\n",
        "ax.legend()\n",
        "plt.show()"
      ],
      "execution_count": 14,
      "outputs": [
        {
          "output_type": "display_data",
          "data": {
            "text/plain": [
              "<Figure size 700x700 with 2 Axes>"
            ],
            "image/png": "[encoded data removed]"
          },
          "metadata": {}
        }
      ]
    },
    {
      "cell_type": "markdown",
      "metadata": {
        "id": "PWoTz-bLug3X"
      },
      "source": [
        "## **13. Save the model plot**\n",
        "---"
      ]
    },
    {
      "cell_type": "code",
      "metadata": {
        "id": "Tz1YfuV1ujcE",
        "colab": {
          "base_uri": "https://localhost:8080/"
        },
        "outputId": "90646e17-d525-4055-c5b5-3123afa5ca38"
      },
      "source": [
        "plotpath  = folderpath+modelname+'_plot.png'\n",
        "plot_model(model,\n",
        "           to_file=plotpath,\n",
        "           show_shapes=True,\n",
        "           show_layer_names=False,\n",
        "           rankdir='TB')\n",
        "\n",
        "print(\"Path to plot:\", plotpath)"
      ],
      "execution_count": 15,
      "outputs": [
        {
          "output_type": "stream",
          "name": "stdout",
          "text": [
            "Path to plot: /content/gdrive/My Drive/iss/psupr/colab/wks5_5_plot.png\n"
          ]
        }
      ]
    }
  ]
}