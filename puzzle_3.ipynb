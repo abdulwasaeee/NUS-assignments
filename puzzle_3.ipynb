{
  "nbformat": 4,
  "nbformat_minor": 0,
  "metadata": {
    "colab": {
      "provenance": [],
      "authorship_tag": "ABX9TyMkx8S3+U8+UWMYm6Iee8+o",
      "include_colab_link": true
    },
    "kernelspec": {
      "name": "python3",
      "display_name": "Python 3"
    },
    "language_info": {
      "name": "python"
    }
  },
  "cells": [
    {
      "cell_type": "markdown",
      "metadata": {
        "id": "view-in-github",
        "colab_type": "text"
      },
      "source": [
        "<a href=\"https://colab.research.google.com/github/abdulwasaeee/NUS-assignments/blob/main/puzzle_3.ipynb\" target=\"_parent\"><img src=\"https://colab.research.google.com/assets/colab-badge.svg\" alt=\"Open In Colab\"/></a>"
      ]
    },
    {
      "cell_type": "code",
      "execution_count": 4,
      "metadata": {
        "colab": {
          "base_uri": "https://localhost:8080/"
        },
        "id": "a4xP66OwwS73",
        "outputId": "c10e3a17-071d-4da4-9ed4-20b27feafc4f"
      },
      "outputs": [
        {
          "output_type": "stream",
          "name": "stdout",
          "text": [
            "Enter Sudoku row by row (use 0 for empty cells):\n",
            "0 0 0 0 8 0 0 7 9\n",
            "0 0 0 4 1 9 0 0 5\n",
            "0 6 0 0 0 0 2 8 0\n",
            "7 0 0 0 2 0 0 0 6\n",
            "4 0 0 8 0 3 0 0 1\n",
            "8 0 0 0 6 0 0 0 3\n",
            "0 9 8 0 0 0 0 6 0\n",
            "6 0 0 1 9 5 0 0 0\n",
            "5 3 0 0 7 0 0 0 0\n",
            "\n",
            "Solved Sudoku:\n",
            "[3, 4, 5, 2, 8, 6, 1, 7, 9]\n",
            "[2, 8, 7, 4, 1, 9, 6, 3, 5]\n",
            "[9, 6, 1, 5, 3, 7, 2, 8, 4]\n",
            "[7, 1, 3, 9, 2, 4, 8, 5, 6]\n",
            "[4, 2, 6, 8, 5, 3, 7, 9, 1]\n",
            "[8, 5, 9, 7, 6, 1, 4, 2, 3]\n",
            "[1, 9, 8, 3, 4, 2, 5, 6, 7]\n",
            "[6, 7, 2, 1, 9, 5, 3, 4, 8]\n",
            "[5, 3, 4, 6, 7, 8, 9, 1, 2]\n"
          ]
        }
      ],
      "source": [
        "def printboard(board):\n",
        "    for row in board:\n",
        "        print(row)\n",
        "\n",
        "def findempty(board):\n",
        "    for i in range(9):\n",
        "        for j in range(9):\n",
        "            if board[i][j] == 0:\n",
        "                return i, j\n",
        "    return None\n",
        "\n",
        "def isvalid(board, num, pos):\n",
        "    for j in range(9):\n",
        "        if board[pos[0]][j] == num and pos[1] != j:\n",
        "            return False\n",
        "\n",
        "    for i in range(9):\n",
        "        if board[i][pos[1]] == num and pos[0] != i:\n",
        "            return False\n",
        "\n",
        "    box_x = pos[1] // 3\n",
        "    box_y = pos[0] // 3\n",
        "    for i in range(box_y * 3, box_y * 3 + 3):\n",
        "        for j in range(box_x * 3, box_x * 3 + 3):\n",
        "            if board[i][j] == num and (i, j) != pos:\n",
        "                return False\n",
        "\n",
        "    return True\n",
        "\n",
        "def solve(board):\n",
        "    find = findempty(board)\n",
        "    if not find:\n",
        "        return True\n",
        "    else:\n",
        "        row, col = find\n",
        "\n",
        "    for num in range(1, 10):\n",
        "        if isvalid(board, num, (row, col)):\n",
        "            board[row][col] = num\n",
        "\n",
        "            if solve(board):\n",
        "                return True\n",
        "\n",
        "            board[row][col] = 0\n",
        "\n",
        "    return False\n",
        "\n",
        "board = []\n",
        "print(\"enter sudoku row by row (use 0 for empty cells):\")\n",
        "for _ in range(9):\n",
        "    row = list(map(int, input().split()))\n",
        "    board.append(row)\n",
        "\n",
        "if solve(board):\n",
        "    print(\"\\nsolved Sudoku:\")\n",
        "    printboard(board)\n",
        "else:\n",
        "    print(\"no solution exists.\")\n"
      ]
    }
  ]
}