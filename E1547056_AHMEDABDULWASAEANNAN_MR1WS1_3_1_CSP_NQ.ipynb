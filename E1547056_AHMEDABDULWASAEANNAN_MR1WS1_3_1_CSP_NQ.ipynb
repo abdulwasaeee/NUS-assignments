{
  "nbformat": 4,
  "nbformat_minor": 0,
  "metadata": {
    "colab": {
      "provenance": [],
      "authorship_tag": "ABX9TyMtJ8v6wjv2h20AUhGb08R6",
      "include_colab_link": true
    },
    "kernelspec": {
      "name": "python3",
      "display_name": "Python 3"
    },
    "language_info": {
      "name": "python"
    }
  },
  "cells": [
    {
      "cell_type": "markdown",
      "metadata": {
        "id": "view-in-github",
        "colab_type": "text"
      },
      "source": [
        "<a href=\"https://colab.research.google.com/github/abdulwasaeee/NUS-assignments/blob/main/E1547056_AHMEDABDULWASAEANNAN_MR1WS1_3_1_CSP_NQ.ipynb\" target=\"_parent\"><img src=\"https://colab.research.google.com/assets/colab-badge.svg\" alt=\"Open In Colab\"/></a>"
      ]
    },
    {
      "cell_type": "code",
      "execution_count": 7,
      "metadata": {
        "colab": {
          "base_uri": "https://localhost:8080/"
        },
        "id": "qsgtyNnR2bDS",
        "outputId": "6455b916-58cc-4e46-d0d4-bf7da79f1ded"
      },
      "outputs": [
        {
          "output_type": "stream",
          "name": "stdout",
          "text": [
            "enter number of queens: 4\n",
            "\n",
            "\n",
            "[0, 1, 0, 0]\n",
            "[0, 0, 0, 1]\n",
            "[1, 0, 0, 0]\n",
            "[0, 0, 1, 0]\n",
            "\n",
            "\n",
            "[0, 0, 1, 0]\n",
            "[1, 0, 0, 0]\n",
            "[0, 0, 0, 1]\n",
            "[0, 1, 0, 0]\n"
          ]
        }
      ],
      "source": [
        "def safe(board, row, col, n):\n",
        "\n",
        "    for i in range(row):\n",
        "        if board[i][col] == 1:\n",
        "            return False\n",
        "    i, j = row - 1, col - 1\n",
        "    while i >= 0 and j >= 0:\n",
        "        if board[i][j] == 1:\n",
        "            return False\n",
        "        i -= 1\n",
        "        j -= 1\n",
        "\n",
        "    i, j = row - 1, col + 1\n",
        "    while i >= 0 and j < n:\n",
        "        if board[i][j] == 1:\n",
        "            return False\n",
        "        i -= 1\n",
        "        j += 1\n",
        "\n",
        "    return True\n",
        "\n",
        "def check(board, row, n, sol):\n",
        "    if row == n:\n",
        "        sol.append([r[:] for r in board])\n",
        "        return\n",
        "\n",
        "    for col in range(n):\n",
        "        if safe(board, row, col, n):\n",
        "            board[row][col] = 1\n",
        "            check(board, row + 1, n, sol)\n",
        "            board[row][col] = 0\n",
        "\n",
        "\n",
        "def queens(n):\n",
        "    board = [[0] * n for i in range(n)]\n",
        "    sol = []\n",
        "    check(board,0,n,sol)\n",
        "\n",
        "    if not sol:\n",
        "        print(\"nqueens not possible\")\n",
        "    else:\n",
        "        for i in sol:\n",
        "            print(\"\\n\")\n",
        "            for j in i:\n",
        "                print(j)\n",
        "\n",
        "\n",
        "n = int(input(\"enter number of queens: \"))\n",
        "queens(n)\n"
      ]
    }
  ]
}